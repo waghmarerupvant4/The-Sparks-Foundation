{
  "nbformat": 4,
  "nbformat_minor": 0,
  "metadata": {
    "colab": {
      "name": "TSF Task1",
      "provenance": [],
      "authorship_tag": "ABX9TyM4N3tFnNw9I2miRICErO2w",
      "include_colab_link": true
    },
    "kernelspec": {
      "name": "python3",
      "display_name": "Python 3"
    },
    "language_info": {
      "name": "python"
    }
  },
  "cells": [
    {
      "cell_type": "markdown",
      "metadata": {
        "id": "view-in-github",
        "colab_type": "text"
      },
      "source": [
        "<a href=\"https://colab.research.google.com/github/waghmarerupvant4/The-Sparks-Foundation/blob/main/TSF_Task1.ipynb\" target=\"_parent\"><img src=\"https://colab.research.google.com/assets/colab-badge.svg\" alt=\"Open In Colab\"/></a>"
      ]
    },
    {
      "cell_type": "markdown",
      "metadata": {
        "id": "CepIrwLioMMm"
      },
      "source": [
        "## Name : Rupvant Dayanand Waghmare\n",
        "# Task 1 : Prediction using Supervised ML\n",
        "\n",
        "\n",
        "\n"
      ]
    },
    {
      "cell_type": "code",
      "metadata": {
        "id": "MaTJEqhjramq"
      },
      "source": [
        "#Importing necessary libraries\n",
        "\n",
        "import pandas as pd\n",
        "import numpy as np\n",
        "import matplotlib.pyplot as plt\n",
        "%matplotlib inline"
      ],
      "execution_count": null,
      "outputs": []
    },
    {
      "cell_type": "code",
      "metadata": {
        "colab": {
          "base_uri": "https://localhost:8080/"
        },
        "id": "24RYo5EzuB2o",
        "outputId": "665aca17-7a03-4446-ec64-eaa8b070a7a9"
      },
      "source": [
        "#Importing data \n",
        "\n",
        "url=\"http://bit.ly/w-data\"\n",
        "data=pd.read_csv(url)\n",
        "data.head(5)\n",
        "print(data.shape)"
      ],
      "execution_count": null,
      "outputs": [
        {
          "output_type": "stream",
          "text": [
            "(25, 2)\n"
          ],
          "name": "stdout"
        }
      ]
    },
    {
      "cell_type": "code",
      "metadata": {
        "id": "7wQE9NgaeGet",
        "colab": {
          "base_uri": "https://localhost:8080/",
          "height": 312
        },
        "outputId": "734c7ad8-f1ed-46f6-f3ea-eb0ecc3859d4"
      },
      "source": [
        "# Plotting the graph\n",
        "data.plot.scatter(x='Hours',y='Scores',c='b',style='o')\n",
        "plt.title('Graph of Hours vs Percentage')"
      ],
      "execution_count": null,
      "outputs": [
        {
          "output_type": "execute_result",
          "data": {
            "text/plain": [
              "Text(0.5, 1.0, 'Graph of Hours vs Percentage')"
            ]
          },
          "metadata": {
            "tags": []
          },
          "execution_count": 20
        },
        {
          "output_type": "display_data",
          "data": {
            "image/png": "[encoded data removed]",
            "text/plain": [
              "<Figure size 432x288 with 1 Axes>"
            ]
          },
          "metadata": {
            "tags": [],
            "needs_background": "light"
          }
        }
      ]
    },
    {
      "cell_type": "markdown",
      "metadata": {
        "id": "erEbE3ncw7cA"
      },
      "source": [
        "Here we can see that there is a positive linear relation between the number of hours studied and percentage of score."
      ]
    },
    {
      "cell_type": "code",
      "metadata": {
        "id": "8CwbT4uBxCZV"
      },
      "source": [
        "# Preparing the data\n",
        "\n",
        "X=data.iloc[:, :-1].values\n",
        "y=data.iloc[:, -1].values"
      ],
      "execution_count": null,
      "outputs": []
    },
    {
      "cell_type": "code",
      "metadata": {
        "id": "tdQxokax7pI4"
      },
      "source": [
        "# Splitting the data into Training and Test Dataset.\n",
        "\n",
        "from sklearn.model_selection import train_test_split\n",
        "X_train,X_test,y_train,y_test=train_test_split(X,y,test_size=0.2,random_state=100)"
      ],
      "execution_count": null,
      "outputs": []
    },
    {
      "cell_type": "code",
      "metadata": {
        "colab": {
          "base_uri": "https://localhost:8080/"
        },
        "id": "3GT3tXACAElg",
        "outputId": "bc0cfc9b-006a-452a-9623-1685835484f4"
      },
      "source": [
        "# Model Training\n",
        "\n",
        "from sklearn.linear_model import LinearRegression\n",
        "model= LinearRegression()\n",
        "model.fit(X_train,y_train)"
      ],
      "execution_count": null,
      "outputs": [
        {
          "output_type": "execute_result",
          "data": {
            "text/plain": [
              "LinearRegression(copy_X=True, fit_intercept=True, n_jobs=None, normalize=False)"
            ]
          },
          "metadata": {
            "tags": []
          },
          "execution_count": 23
        }
      ]
    },
    {
      "cell_type": "code",
      "metadata": {
        "colab": {
          "base_uri": "https://localhost:8080/",
          "height": 282
        },
        "id": "0Js71nG0Bu52",
        "outputId": "5593d1c6-f205-4db4-f6cf-1278f63bd47a"
      },
      "source": [
        "# Model Fitting\n",
        "\n",
        "L=model.coef_*X + model.intercept_\n",
        "\n",
        "# Plotting Fitted Line\n",
        "\n",
        "plt.scatter(X,y)\n",
        "plt.plot(X,L)"
      ],
      "execution_count": null,
      "outputs": [
        {
          "output_type": "execute_result",
          "data": {
            "text/plain": [
              "[<matplotlib.lines.Line2D at 0x7f2882c9b6d0>]"
            ]
          },
          "metadata": {
            "tags": []
          },
          "execution_count": 24
        },
        {
          "output_type": "display_data",
          "data": {
            "image/png": "[encoded data removed]",
            "text/plain": [
              "<Figure size 432x288 with 1 Axes>"
            ]
          },
          "metadata": {
            "tags": [],
            "needs_background": "light"
          }
        }
      ]
    },
    {
      "cell_type": "code",
      "metadata": {
        "id": "6pvIyFzvDrUo"
      },
      "source": [
        "# Estimating y\n",
        "\n",
        "y_est=model.predict(X_test)\n"
      ],
      "execution_count": null,
      "outputs": []
    },
    {
      "cell_type": "code",
      "metadata": {
        "colab": {
          "base_uri": "https://localhost:8080/",
          "height": 203
        },
        "id": "R6L3vb8oEAcM",
        "outputId": "1d539e77-d47a-4ca9-82a2-1fce9f0d89e0"
      },
      "source": [
        "# Comparing actual and estimated values of y\n",
        "\n",
        "compare=pd.DataFrame({\"Actual\":y_test,\"Estimated\":y_est})\n",
        "compare"
      ],
      "execution_count": null,
      "outputs": [
        {
          "output_type": "execute_result",
          "data": {
            "text/html": [
              "<div>\n",
              "<style scoped>\n",
              "    .dataframe tbody tr th:only-of-type {\n",
              "        vertical-align: middle;\n",
              "    }\n",
              "\n",
              "    .dataframe tbody tr th {\n",
              "        vertical-align: top;\n",
              "    }\n",
              "\n",
              "    .dataframe thead th {\n",
              "        text-align: right;\n",
              "    }\n",
              "</style>\n",
              "<table border=\"1\" class=\"dataframe\">\n",
              "  <thead>\n",
              "    <tr style=\"text-align: right;\">\n",
              "      <th></th>\n",
              "      <th>Actual</th>\n",
              "      <th>Estimated</th>\n",
              "    </tr>\n",
              "  </thead>\n",
              "  <tbody>\n",
              "    <tr>\n",
              "      <th>0</th>\n",
              "      <td>25</td>\n",
              "      <td>28.545123</td>\n",
              "    </tr>\n",
              "    <tr>\n",
              "      <th>1</th>\n",
              "      <td>35</td>\n",
              "      <td>39.364112</td>\n",
              "    </tr>\n",
              "    <tr>\n",
              "      <th>2</th>\n",
              "      <td>42</td>\n",
              "      <td>34.446390</td>\n",
              "    </tr>\n",
              "    <tr>\n",
              "      <th>3</th>\n",
              "      <td>62</td>\n",
              "      <td>60.018545</td>\n",
              "    </tr>\n",
              "    <tr>\n",
              "      <th>4</th>\n",
              "      <td>20</td>\n",
              "      <td>16.742590</td>\n",
              "    </tr>\n",
              "  </tbody>\n",
              "</table>\n",
              "</div>"
            ],
            "text/plain": [
              "   Actual  Estimated\n",
              "0      25  28.545123\n",
              "1      35  39.364112\n",
              "2      42  34.446390\n",
              "3      62  60.018545\n",
              "4      20  16.742590"
            ]
          },
          "metadata": {
            "tags": []
          },
          "execution_count": 26
        }
      ]
    },
    {
      "cell_type": "code",
      "metadata": {
        "colab": {
          "base_uri": "https://localhost:8080/"
        },
        "id": "Nom49ZayF-vh",
        "outputId": "fb66db08-91b6-436e-ebbc-883d2c568390"
      },
      "source": [
        "# Predicting score of a student who studies for 9.25hrs/day.\n",
        "hrs = [[9.25]]\n",
        "st_score = model.predict(hrs)\n",
        "print(\"No of Hours = {}\".format(hrs[0][0]))\n",
        "print(\"Predicted Score = {}\".format(st_score[0]))"
      ],
      "execution_count": null,
      "outputs": [
        {
          "output_type": "stream",
          "text": [
            "No of Hours = 9.25\n",
            "Predicted Score = 92.96728365185982\n"
          ],
          "name": "stdout"
        }
      ]
    },
    {
      "cell_type": "code",
      "metadata": {
        "colab": {
          "base_uri": "https://localhost:8080/"
        },
        "id": "lpk_Q4XsMUiI",
        "outputId": "c193ca8c-ca83-4979-a11e-5bda1c761342"
      },
      "source": [
        "# Model Evaluation\n",
        "\n",
        "from sklearn.metrics import mean_absolute_error\n",
        "print(\"Mean Absolute Error:\",mean_absolute_error(y_test, y_est))"
      ],
      "execution_count": null,
      "outputs": [
        {
          "output_type": "stream",
          "text": [
            "Mean Absolute Error: 4.140342096254413\n"
          ],
          "name": "stdout"
        }
      ]
    }
  ]
}